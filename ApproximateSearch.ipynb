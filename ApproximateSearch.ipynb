{
 "cells": [
  {
   "cell_type": "code",
   "execution_count": 1,
   "metadata": {
    "pycharm": {
     "name": "#%%\n"
    }
   },
   "outputs": [],
   "source": [
    "import pandas as pd\n",
    "import numpy as np\n",
    "from operator import itemgetter\n",
    "import json\n",
    "import math"
   ]
  },
  {
   "cell_type": "code",
   "execution_count": 2,
   "metadata": {
    "pycharm": {
     "name": "#%%\n"
    }
   },
   "outputs": [],
   "source": [
    "# Reading Dataset and MIF file\n",
    "def read_data_mif():\n",
    "    df_obj=pd.read_csv('atm_data.csv')\n",
    "    ls_obj=df_obj.values.tolist()\n",
    "\n",
    "    with open('References.json') as output:\n",
    "        ls_ref = json.load(output)\n",
    "\n",
    "    with open('MIF.json') as output:\n",
    "        mif = json.load(output)\n",
    "    return df_obj, ls_obj, ls_ref, mif"
   ]
  },
  {
   "cell_type": "code",
   "execution_count": 3,
   "metadata": {},
   "outputs": [],
   "source": [
    "#Calculating Spearman Footrule Distance\n",
    "\n",
    "def sfd(obj, ref):\n",
    "    n=len(obj)\n",
    "    d=0\n",
    "    for i in range(n):\n",
    "        d+=abs(obj[i]-ref[i])\n",
    "    return d"
   ]
  },
  {
   "cell_type": "code",
   "execution_count": 4,
   "metadata": {},
   "outputs": [],
   "source": [
    "#Calculating query's distance to references\n",
    "\n",
    "def q_ref_dist(q, ref):\n",
    "    qtoref_dist=[]\n",
    "    ordered_qtoref_dist=[]\n",
    "    for i in range(len(ref)):\n",
    "        distance=sfd(q,ref[i])\n",
    "        qtoref_dist.append([i,distance])\n",
    "    ordered_qtoref_dist=sorted(qtoref_dist, key=itemgetter(1))\n",
    "    return ordered_qtoref_dist"
   ]
  },
  {
   "cell_type": "code",
   "execution_count": 5,
   "metadata": {},
   "outputs": [],
   "source": [
    "#Creating Query's PBI\n",
    "def get_pbi(q, g_ls_reference):\n",
    "    pbi=[]\n",
    "    qtoref_distance=[]\n",
    "    qtoref_distance=q_ref_dist(query, g_ls_reference)\n",
    "    # print(f'Distance of query to each reference:\\n{qtoref_distance}\\n')\n",
    "    for i in range (len(g_ls_reference)):\n",
    "        pbi.append([qtoref_distance[i][0], i+1])\n",
    "    pbi=pbi[:10]\n",
    "    return pbi"
   ]
  },
  {
   "cell_type": "code",
   "execution_count": 6,
   "metadata": {},
   "outputs": [],
   "source": [
    "def get_close_obj(pbi,mi, g_df_object):\n",
    "    look_ref=[]\n",
    "    for i in range(len(pbi)):\n",
    "        look_ref.append(pbi[i][0])\n",
    "\n",
    "    coi=[]\n",
    "    for ref_index in look_ref:\n",
    "        for i in mi[ref_index][1]:\n",
    "            if i not in coi:\n",
    "                coi.append(i[0])\n",
    "\n",
    "    coi = list(dict.fromkeys(coi))\n",
    "    df_co=g_df_object.iloc[coi]\n",
    "    ls_co=df_co.values.tolist()\n",
    "    return coi, df_co, ls_co"
   ]
  },
  {
   "cell_type": "code",
   "execution_count": 7,
   "metadata": {},
   "outputs": [],
   "source": [
    "def q_obj_similarity(q, obj):\n",
    "    qtoobj_dist=[]\n",
    "    ordered_qtoobj_dist=[]\n",
    "    for i in range(len(obj)):\n",
    "        distance=sfd(q,obj[i])\n",
    "        qtoobj_dist.append([i,distance])\n",
    "    ordered_qtoobj_dist=sorted(qtoobj_dist, key=itemgetter(1))\n",
    "    return ordered_qtoobj_dist\n",
    "    "
   ]
  },
  {
   "cell_type": "code",
   "execution_count": 8,
   "metadata": {},
   "outputs": [],
   "source": [
    "def print_result(g_similar, g_ls_object):\n",
    "    class color:\n",
    "       PURPLE = '\\033[95m'\n",
    "       CYAN = '\\033[96m'\n",
    "       DARKCYAN = '\\033[36m'\n",
    "       BLUE = '\\033[94m'\n",
    "       GREEN = '\\033[92m'\n",
    "       YELLOW = '\\033[93m'\n",
    "       RED = '\\033[91m'\n",
    "       BOLD = '\\033[1m'\n",
    "       UNDERLINE = '\\033[4m'\n",
    "       END = '\\033[0m'\n",
    "\n",
    "    a=query\n",
    "    for i,element in enumerate(a):\n",
    "        frac, whole = math.modf(element)\n",
    "        num=float(a[i])\n",
    "        (whole, frac) = (int(num), int(str(num)[(len(str(int(num)))+1):]))\n",
    "        if frac==0:\n",
    "            a[i]=int(element)\n",
    "        elif len(str(frac))>6:\n",
    "            a[i]=round(a[i], 6)\n",
    "    print(f'{color.BOLD}Query:{color.END}\\n\\n{(query)}\\n')\n",
    "    print(f'{color.BOLD}20 similar records to the given query:\\n{color.END}')\n",
    "    for  key,value in  enumerate(g_similar):\n",
    "        a=g_ls_object[value]\n",
    "        for i,element in enumerate(a):\n",
    "            frac, whole = math.modf(element)\n",
    "            num=float(a[i])\n",
    "            (whole, frac) = (int(num), int(str(num)[(len(str(int(num)))+1):]))\n",
    "            if frac==0:\n",
    "                a[i]=int(element)\n",
    "            elif len(str(frac))>6:\n",
    "                a[i]=round(a[i], 6)\n",
    "        print(f'{color.BOLD}{key+1}{color.END}-> record {value}:\\n{g_ls_object[value]}\\n')"
   ]
  },
  {
   "cell_type": "code",
   "execution_count": 9,
   "metadata": {},
   "outputs": [],
   "source": [
    "def search(given_query):\n",
    "    \n",
    "    df_object, ls_object, ls_reference, metric_inverted= read_data_mif()\n",
    "    q_pbi=get_pbi(given_query, ls_reference)\n",
    "    close_objs_indices, df_close_objs, ls_close_objs=get_close_obj(q_pbi, metric_inverted, df_object)\n",
    "    q_obj_distance=q_obj_similarity(query, ls_close_objs)\n",
    "\n",
    "    similar=[]\n",
    "    for i in q_obj_distance[:20]:\n",
    "        similar.append(close_objs_indices[i[0]])\n",
    "    \n",
    "    print_result(similar, ls_object)\n",
    "    "
   ]
  },
  {
   "cell_type": "code",
   "execution_count": 10,
   "metadata": {
    "scrolled": false
   },
   "outputs": [
    {
     "name": "stdout",
     "output_type": "stream",
     "text": [
      "Enter your query (Note: please use comma to seprate the fields):\n",
      "2018, 11, 23, 5, 21, 1, 47, 0, 24, 20, 157, 1850, 55.675631, 14.536698, 1, 10, 1, 0, 1, 55, 12.53463, 2621942, 9, 279.13, 1008, 87, 5, 110, 1.982272, 0, 321, 1, 1 \n",
      "\u001b[1mQuery:\u001b[0m\n",
      "\n",
      "[2018, 11, 23, 5, 21, 1, 47, 0, 24, 20, 157, 1850, 55.675631, 14.536698, 1, 10, 1, 0, 1, 55, 12.53463, 2621942, 9, 279.13, 1008, 87, 5, 110, 1.982272, 0, 321, 1, 1]\n",
      "\n",
      "\u001b[1m20 similar records to the given query:\n",
      "\u001b[0m\n",
      "\u001b[1m1\u001b[0m-> record 1059566:\n",
      "[2017, 6, 6, 3, 12, 1, 47, 0, 24, 20, 157, 1850, 55.677431, 12.536698, 1, 10, 1, 0, 1, 55.679379, 12.53463, 2621942, 9, 291.15, 1002, 68, 7, 120, 0.982272, 0, 301, 3, 3]\n",
      "\n",
      "\u001b[1m2\u001b[0m-> record 1059736:\n",
      "[2017, 6, 6, 3, 12, 1, 47, 0, 24, 20, 157, 1850, 55.677431, 12.536698, 1, 9, 1, 0, 1, 55.679379, 12.53463, 2621942, 9, 291.15, 1002, 68, 7, 120, 0.982272, 0, 301, 3, 3]\n",
      "\n",
      "\u001b[1m3\u001b[0m-> record 876284:\n",
      "[2017, 5, 11, 5, 15, 1, 47, 0, 24, 20, 157, 1850, 55.677431, 12.536698, 1, 10, 1, 0, 1, 55.679379, 12.53463, 2621942, 9, 282.35, 1007, 71, 4, 140, 0.982272, 0, 300, 3, 12]\n",
      "\n",
      "\u001b[1m4\u001b[0m-> record 876295:\n",
      "[2017, 5, 11, 5, 15, 1, 47, 0, 24, 20, 157, 1850, 55.677431, 12.536698, 1, 10, 1, 0, 1, 55.679379, 12.53463, 2621942, 9, 282.35, 1007, 71, 4, 140, 0.982272, 0, 300, 3, 12]\n",
      "\n",
      "\u001b[1m5\u001b[0m-> record 876573:\n",
      "[2017, 5, 11, 5, 15, 1, 47, 0, 24, 20, 157, 1850, 55.677431, 12.536698, 1, 7, 1, 0, 1, 55.679379, 12.53463, 2621942, 9, 282.35, 1007, 71, 4, 140, 0.982272, 0, 300, 3, 12]\n",
      "\n",
      "\u001b[1m6\u001b[0m-> record 1063333:\n",
      "[2017, 6, 6, 3, 17, 1, 47, 0, 24, 20, 157, 1850, 55.677431, 12.536698, 1, 10, 1, 0, 1, 55.679379, 12.53463, 2621942, 9, 291.18, 1002, 63, 8, 120, 0.982272, 0, 300, 3, 12]\n",
      "\n",
      "\u001b[1m7\u001b[0m-> record 1063319:\n",
      "[2017, 6, 6, 3, 17, 1, 47, 0, 24, 20, 157, 1850, 55.677431, 12.536698, 1, 11, 1, 0, 1, 55.679379, 12.53463, 2621942, 9, 291.18, 1002, 63, 8, 120, 0.982272, 0, 300, 3, 12]\n",
      "\n",
      "\u001b[1m8\u001b[0m-> record 878859:\n",
      "[2017, 5, 11, 5, 17, 1, 47, 0, 24, 20, 157, 1850, 55.677431, 12.536698, 1, 10, 1, 0, 1, 55.679379, 12.53463, 2621942, 9, 281.61, 1007, 66, 3, 150, 0.982272, 0, 300, 3, 12]\n",
      "\n",
      "\u001b[1m9\u001b[0m-> record 878284:\n",
      "[2017, 5, 11, 5, 17, 1, 47, 0, 24, 20, 157, 1850, 55.677431, 12.536698, 1, 9, 1, 0, 1, 55.679379, 12.53463, 2621942, 9, 281.61, 1007, 66, 3, 150, 0.982272, 0, 300, 3, 12]\n",
      "\n",
      "\u001b[1m10\u001b[0m-> record 878742:\n",
      "[2017, 5, 11, 5, 17, 1, 47, 0, 24, 20, 157, 1850, 55.677431, 12.536698, 1, 2, 1, 0, 1, 55.679379, 12.53463, 2621942, 9, 281.61, 1007, 66, 3, 150, 0.982272, 0, 300, 3, 12]\n",
      "\n",
      "\u001b[1m11\u001b[0m-> record 869060:\n",
      "[2017, 5, 10, 4, 20, 1, 47, 0, 24, 20, 157, 1850, 55.677431, 12.536698, 1, 11, 1, 0, 1, 55.679379, 12.53463, 2621942, 9, 277.63, 1007, 86, 6, 120, 0.982272, 75, 300, 3, 12]\n",
      "\n",
      "\u001b[1m12\u001b[0m-> record 861702:\n",
      "[2017, 5, 9, 3, 23, 1, 47, 0, 24, 20, 157, 1850, 55.677431, 12.536698, 1, 7, 1, 0, 1, 55.679379, 12.53463, 2621942, 9, 277.86, 1009, 93, 1, 120, 0.982272, 75, 301, 3, 3]\n",
      "\n",
      "\u001b[1m13\u001b[0m-> record 679718:\n",
      "[2017, 4, 15, 7, 9, 1, 47, 0, 24, 20, 157, 1850, 55.677431, 12.536698, 1, 10, 1, 0, 1, 55.679379, 12.53463, 2621942, 9, 277.11, 1004, 93, 6, 120, 0.982272, 75, 301, 3, 3]\n",
      "\n",
      "\u001b[1m14\u001b[0m-> record 784566:\n",
      "[2017, 4, 29, 7, 19, 1, 47, 0, 24, 20, 157, 1850, 55.677431, 12.536698, 1, 10, 1, 0, 1, 55.679379, 12.53463, 2621942, 9, 278.13, 1020, 81, 1, 100, 0.982272, 75, 300, 3, 12]\n",
      "\n",
      "\u001b[1m15\u001b[0m-> record 863811:\n",
      "[2017, 5, 10, 4, 11, 1, 47, 0, 24, 20, 157, 1850, 55.677431, 12.536698, 1, 9, 1, 0, 1, 55.679379, 12.53463, 2621942, 9, 279.15, 1007, 81, 3, 120, 0.982272, 75, 300, 3, 12]\n",
      "\n",
      "\u001b[1m16\u001b[0m-> record 784596:\n",
      "[2017, 4, 29, 7, 19, 1, 47, 0, 24, 20, 157, 1850, 55.677431, 12.536698, 1, 11, 1, 0, 1, 55.679379, 12.53463, 2621942, 9, 278.13, 1020, 81, 1, 100, 0.982272, 75, 300, 3, 12]\n",
      "\n",
      "\u001b[1m17\u001b[0m-> record 784299:\n",
      "[2017, 4, 29, 7, 19, 1, 47, 0, 24, 20, 157, 1850, 55.677431, 12.536698, 1, 8, 1, 0, 1, 55.679379, 12.53463, 2621942, 9, 278.13, 1020, 81, 1, 100, 0.982272, 75, 300, 3, 12]\n",
      "\n",
      "\u001b[1m18\u001b[0m-> record 869899:\n",
      "[2017, 5, 11, 5, 7, 1, 47, 0, 24, 20, 157, 1850, 55.677431, 12.536698, 1, 10, 1, 0, 1, 55.679379, 12.53463, 2621942, 9, 278.86, 1006, 93, 6, 130, 0.982272, 75, 310, 3, 13]\n",
      "\n",
      "\u001b[1m19\u001b[0m-> record 869880:\n",
      "[2017, 5, 11, 5, 7, 1, 47, 0, 24, 20, 157, 1850, 55.677431, 12.536698, 1, 7, 1, 0, 1, 55.679379, 12.53463, 2621942, 9, 278.86, 1006, 93, 6, 130, 0.982272, 75, 310, 3, 13]\n",
      "\n",
      "\u001b[1m20\u001b[0m-> record 401390:\n",
      "[2017, 3, 5, 1, 14, 1, 47, 0, 24, 20, 157, 1850, 55.677431, 12.536698, 1, 9, 1, 0, 1, 55.679379, 12.53463, 2621942, 9, 276.64, 1000, 93, 6, 110, 0.982272, 75, 300, 3, 12]\n",
      "\n"
     ]
    }
   ],
   "source": [
    "# Getting query from user\n",
    "input_query= input('Enter your query (Note: please use comma to seprate the fields):\\n') \n",
    "input_query_list = list(input_query.split(\",\"))\n",
    "query=list(np.float_(input_query_list))\n",
    "\n",
    "# Looking for approximate search of the given query\n",
    "search(query)"
   ]
  },
  {
   "cell_type": "code",
   "execution_count": null,
   "metadata": {},
   "outputs": [],
   "source": []
  }
 ],
 "metadata": {
  "kernelspec": {
   "display_name": "Python 3",
   "language": "python",
   "name": "python3"
  },
  "language_info": {
   "codemirror_mode": {
    "name": "ipython",
    "version": 3
   },
   "file_extension": ".py",
   "mimetype": "text/x-python",
   "name": "python",
   "nbconvert_exporter": "python",
   "pygments_lexer": "ipython3",
   "version": "3.7.4"
  },
  "pycharm": {
   "stem_cell": {
    "cell_type": "raw",
    "metadata": {
     "collapsed": false
    },
    "source": []
   }
  }
 },
 "nbformat": 4,
 "nbformat_minor": 2
}
